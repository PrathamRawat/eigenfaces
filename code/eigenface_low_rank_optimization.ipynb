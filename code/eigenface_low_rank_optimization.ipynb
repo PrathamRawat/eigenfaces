{
 "cells": [
  {
   "cell_type": "code",
   "execution_count": 3,
   "metadata": {
    "collapsed": true
   },
   "outputs": [],
   "source": [
    "import os\n",
    "import pandas as pd\n",
    "import matplotlib.pyplot as plt\n",
    "import numpy as np\n",
    "from PIL import Image\n",
    "from tqdm.notebook import tqdm"
   ]
  },
  {
   "cell_type": "code",
   "execution_count": 4,
   "outputs": [],
   "source": [
    "celebs = os.listdir(\"../cropped_faces\")\n",
    "faces = []\n",
    "\n",
    "for celeb in celebs:\n",
    "    faces.append(np.asarray(Image.open(\"../cropped_faces/{}\".format(celeb))))\n",
    "\n",
    "face_array = np.array(faces)\n",
    "red, green, blue = np.split(face_array, 3, axis=3)"
   ],
   "metadata": {
    "collapsed": false,
    "pycharm": {
     "name": "#%%\n"
    }
   }
  },
  {
   "cell_type": "code",
   "execution_count": 5,
   "outputs": [],
   "source": [
    "def get_random_face():\n",
    "    index = np.random.randint(0, len(face_array))\n",
    "    return faces[index], index\n"
   ],
   "metadata": {
    "collapsed": false,
    "pycharm": {
     "name": "#%%\n"
    }
   }
  },
  {
   "cell_type": "code",
   "execution_count": 6,
   "outputs": [
    {
     "data": {
      "text/plain": "<matplotlib.image.AxesImage at 0x7f8efdfdc5e0>"
     },
     "execution_count": 6,
     "metadata": {},
     "output_type": "execute_result"
    },
    {
     "data": {
      "text/plain": "<Figure size 432x288 with 1 Axes>",
      "image/png": "[encoded data removed]"
     },
     "metadata": {
      "needs_background": "light"
     },
     "output_type": "display_data"
    }
   ],
   "source": [
    "plt.imshow(get_random_face()[0], cmap=plt.cm.rainbow)\n"
   ],
   "metadata": {
    "collapsed": false,
    "pycharm": {
     "name": "#%%\n"
    }
   }
  },
  {
   "cell_type": "code",
   "execution_count": 7,
   "outputs": [],
   "source": [
    "def pca(X, n_pc):\n",
    "    mean = np.mean(X, axis=0)\n",
    "    centered_data = X - mean # Subtracting the mean from the data\n",
    "    U, S, V = np.linalg.svd(centered_data) # Taking the SVD from the data\n",
    "    components = V[:n_pc] # Extracting the principal components\n",
    "    projected = U[:,:n_pc]*S[:n_pc]\n",
    "\n",
    "    return projected, components, mean, centered_data"
   ],
   "metadata": {
    "collapsed": false,
    "pycharm": {
     "name": "#%%\n"
    }
   }
  },
  {
   "cell_type": "code",
   "execution_count": 8,
   "outputs": [],
   "source": [
    "def eigenfaces(data, faces=50):\n",
    "    samples, h, w, d = data.shape\n",
    "    X = data.reshape(samples, h*w) # vectorizing the images\n",
    "    P, C, M, Y = pca(X, n_pc=faces) # running PCA with the number of principal components specified\n",
    "    return C.reshape((faces, h, w)), P, C, M, Y #reshaping the principal components to be images\n",
    "\n",
    "def reconstruct(mean_centered, components, mean, index):\n",
    "    weights = np.dot(mean_centered, components.T)\n",
    "    centered_vector = np.dot(weights[index, :], components) # applying weights to each of the components\n",
    "    recovered = (mean + centered_vector).reshape(64, 64)\n",
    "    return recovered"
   ],
   "metadata": {
    "collapsed": false,
    "pycharm": {
     "name": "#%%\n"
    }
   }
  },
  {
   "cell_type": "code",
   "execution_count": 9,
   "outputs": [],
   "source": [
    "def accuracy(original, reconstruction):\n",
    "    difference = original - reconstruction\n",
    "    sum = np.sum(np.abs(difference))\n",
    "    return sum / np.sum(original)"
   ],
   "metadata": {
    "collapsed": false,
    "pycharm": {
     "name": "#%%\n"
    }
   }
  },
  {
   "cell_type": "code",
   "execution_count": 10,
   "outputs": [],
   "source": [
    "def list_to_diagonal(list, size):\n",
    "    output = np.zeros((len(list), len(list)))\n",
    "    if size != 0:\n",
    "        output = np.zeros((size, size))\n",
    "    for x in range(len(list)):\n",
    "        output[x, x] = list[x]\n",
    "    return output\n",
    "\n",
    "def image_low_rank_approximation(array, rank):\n",
    "    U_red, S_red, V_red = np.linalg.svd(array[:,:,0])\n",
    "    U_green, S_green, V_green = np.linalg.svd(array[:,:,1])\n",
    "    U_blue, S_blue, V_blue = np.linalg.svd(array[:,:,2])\n",
    "    red_approx = np.zeros((64, 64))\n",
    "    green_approx = np.zeros((64, 64))\n",
    "    blue_approx = np.zeros((64, 64))\n",
    "    for x in range(rank):\n",
    "        red_approx += S_red[x] * np.outer(U_red.transpose()[x], V_red[x])\n",
    "        green_approx += S_green[x] * np.outer(U_green.transpose()[x], V_green[x])\n",
    "        blue_approx += S_blue[x] * np.outer(U_blue.transpose()[x], V_blue[x])\n",
    "    return np.dstack((red_approx, green_approx, blue_approx))\n"
   ],
   "metadata": {
    "collapsed": false,
    "pycharm": {
     "name": "#%%\n"
    }
   }
  },
  {
   "cell_type": "code",
   "execution_count": 21,
   "outputs": [
    {
     "data": {
      "text/plain": "  0%|          | 0/22 [00:00<?, ?it/s]",
      "application/vnd.jupyter.widget-view+json": {
       "version_major": 2,
       "version_minor": 0,
       "model_id": "5fad423b3ec2427c9456e06c5aa5dcbb"
      }
     },
     "metadata": {},
     "output_type": "display_data"
    },
    {
     "data": {
      "text/plain": "  0%|          | 0/100 [00:00<?, ?it/s]",
      "application/vnd.jupyter.widget-view+json": {
       "version_major": 2,
       "version_minor": 0,
       "model_id": "ffeae68dbe5643039ac4df9bc96f9c4e"
      }
     },
     "metadata": {},
     "output_type": "display_data"
    },
    {
     "data": {
      "text/plain": "  0%|          | 0/100 [00:00<?, ?it/s]",
      "application/vnd.jupyter.widget-view+json": {
       "version_major": 2,
       "version_minor": 0,
       "model_id": "7e00dfb5f6674bdfbd9f97ac5c203d7f"
      }
     },
     "metadata": {},
     "output_type": "display_data"
    },
    {
     "data": {
      "text/plain": "  0%|          | 0/100 [00:00<?, ?it/s]",
      "application/vnd.jupyter.widget-view+json": {
       "version_major": 2,
       "version_minor": 0,
       "model_id": "56201858eadd49c5b1b36c49d21bfd98"
      }
     },
     "metadata": {},
     "output_type": "display_data"
    },
    {
     "data": {
      "text/plain": "  0%|          | 0/100 [00:00<?, ?it/s]",
      "application/vnd.jupyter.widget-view+json": {
       "version_major": 2,
       "version_minor": 0,
       "model_id": "bcc9439baf424b8bad6ca997ed72c674"
      }
     },
     "metadata": {},
     "output_type": "display_data"
    },
    {
     "data": {
      "text/plain": "  0%|          | 0/100 [00:00<?, ?it/s]",
      "application/vnd.jupyter.widget-view+json": {
       "version_major": 2,
       "version_minor": 0,
       "model_id": "5925ff6a3feb4a3394f62b02c06064a8"
      }
     },
     "metadata": {},
     "output_type": "display_data"
    },
    {
     "data": {
      "text/plain": "  0%|          | 0/100 [00:00<?, ?it/s]",
      "application/vnd.jupyter.widget-view+json": {
       "version_major": 2,
       "version_minor": 0,
       "model_id": "1d78f4d20d2f488d8fce9bac3ab7e27d"
      }
     },
     "metadata": {},
     "output_type": "display_data"
    },
    {
     "data": {
      "text/plain": "  0%|          | 0/100 [00:00<?, ?it/s]",
      "application/vnd.jupyter.widget-view+json": {
       "version_major": 2,
       "version_minor": 0,
       "model_id": "099bbb5ca22b474b98977fec768ef2be"
      }
     },
     "metadata": {},
     "output_type": "display_data"
    },
    {
     "data": {
      "text/plain": "  0%|          | 0/100 [00:00<?, ?it/s]",
      "application/vnd.jupyter.widget-view+json": {
       "version_major": 2,
       "version_minor": 0,
       "model_id": "486420d976ff47e39c5d88635e81186a"
      }
     },
     "metadata": {},
     "output_type": "display_data"
    },
    {
     "data": {
      "text/plain": "  0%|          | 0/100 [00:00<?, ?it/s]",
      "application/vnd.jupyter.widget-view+json": {
       "version_major": 2,
       "version_minor": 0,
       "model_id": "a644a4fdeeee49ca85ad374696b11ce8"
      }
     },
     "metadata": {},
     "output_type": "display_data"
    },
    {
     "data": {
      "text/plain": "  0%|          | 0/100 [00:00<?, ?it/s]",
      "application/vnd.jupyter.widget-view+json": {
       "version_major": 2,
       "version_minor": 0,
       "model_id": "314be512502d490abe9aaa8bb00c391b"
      }
     },
     "metadata": {},
     "output_type": "display_data"
    },
    {
     "data": {
      "text/plain": "  0%|          | 0/100 [00:00<?, ?it/s]",
      "application/vnd.jupyter.widget-view+json": {
       "version_major": 2,
       "version_minor": 0,
       "model_id": "81eeb4f54b904ac79c9d78b2918d4080"
      }
     },
     "metadata": {},
     "output_type": "display_data"
    },
    {
     "data": {
      "text/plain": "  0%|          | 0/100 [00:00<?, ?it/s]",
      "application/vnd.jupyter.widget-view+json": {
       "version_major": 2,
       "version_minor": 0,
       "model_id": "176a9ffa205047d285f6a259ffecd0bc"
      }
     },
     "metadata": {},
     "output_type": "display_data"
    },
    {
     "data": {
      "text/plain": "  0%|          | 0/100 [00:00<?, ?it/s]",
      "application/vnd.jupyter.widget-view+json": {
       "version_major": 2,
       "version_minor": 0,
       "model_id": "0d64ec7801ca463d92b1fba433717d4e"
      }
     },
     "metadata": {},
     "output_type": "display_data"
    },
    {
     "data": {
      "text/plain": "  0%|          | 0/100 [00:00<?, ?it/s]",
      "application/vnd.jupyter.widget-view+json": {
       "version_major": 2,
       "version_minor": 0,
       "model_id": "58222a3322144900a5bff1a96229babd"
      }
     },
     "metadata": {},
     "output_type": "display_data"
    },
    {
     "data": {
      "text/plain": "  0%|          | 0/100 [00:00<?, ?it/s]",
      "application/vnd.jupyter.widget-view+json": {
       "version_major": 2,
       "version_minor": 0,
       "model_id": "2d94c96c50b4426d8c553c54d5552a19"
      }
     },
     "metadata": {},
     "output_type": "display_data"
    },
    {
     "data": {
      "text/plain": "  0%|          | 0/100 [00:00<?, ?it/s]",
      "application/vnd.jupyter.widget-view+json": {
       "version_major": 2,
       "version_minor": 0,
       "model_id": "41e677dcf5804afdaafd3c4f3f6d47c2"
      }
     },
     "metadata": {},
     "output_type": "display_data"
    },
    {
     "data": {
      "text/plain": "  0%|          | 0/100 [00:00<?, ?it/s]",
      "application/vnd.jupyter.widget-view+json": {
       "version_major": 2,
       "version_minor": 0,
       "model_id": "ace5dce4f7c24784aefc15e674fac3b8"
      }
     },
     "metadata": {},
     "output_type": "display_data"
    },
    {
     "data": {
      "text/plain": "  0%|          | 0/100 [00:00<?, ?it/s]",
      "application/vnd.jupyter.widget-view+json": {
       "version_major": 2,
       "version_minor": 0,
       "model_id": "fa378681e94f402fb012d0c332b098c6"
      }
     },
     "metadata": {},
     "output_type": "display_data"
    },
    {
     "data": {
      "text/plain": "  0%|          | 0/100 [00:00<?, ?it/s]",
      "application/vnd.jupyter.widget-view+json": {
       "version_major": 2,
       "version_minor": 0,
       "model_id": "d7dbc696853d47d08598f466d20c6ced"
      }
     },
     "metadata": {},
     "output_type": "display_data"
    },
    {
     "data": {
      "text/plain": "  0%|          | 0/100 [00:00<?, ?it/s]",
      "application/vnd.jupyter.widget-view+json": {
       "version_major": 2,
       "version_minor": 0,
       "model_id": "bee87910fe63437fb489c17386e17684"
      }
     },
     "metadata": {},
     "output_type": "display_data"
    },
    {
     "data": {
      "text/plain": "  0%|          | 0/100 [00:00<?, ?it/s]",
      "application/vnd.jupyter.widget-view+json": {
       "version_major": 2,
       "version_minor": 0,
       "model_id": "cd9b732893184ffda9326e644ac13d74"
      }
     },
     "metadata": {},
     "output_type": "display_data"
    },
    {
     "data": {
      "text/plain": "  0%|          | 0/100 [00:00<?, ?it/s]",
      "application/vnd.jupyter.widget-view+json": {
       "version_major": 2,
       "version_minor": 0,
       "model_id": "7812c857441947279b99b88b54bb4924"
      }
     },
     "metadata": {},
     "output_type": "display_data"
    }
   ],
   "source": [
    "lr_accuracies = {}\n",
    "\n",
    "for x in tqdm(range(1, 65, 3)):\n",
    "    lr_accuracies[x] = list()\n",
    "    for face in tqdm(range(100)):\n",
    "        lr_accuracies[x].append(1 - accuracy(faces[face], image_low_rank_approximation(faces[face], x)))"
   ],
   "metadata": {
    "collapsed": false,
    "pycharm": {
     "name": "#%%\n"
    }
   }
  },
  {
   "cell_type": "code",
   "execution_count": 24,
   "outputs": [
    {
     "data": {
      "text/plain": "<Figure size 432x288 with 1 Axes>",
      "image/png": "[encoded data removed]"
     },
     "metadata": {
      "needs_background": "light"
     },
     "output_type": "display_data"
    }
   ],
   "source": [
    "lr_accuracy_df = pd.DataFrame.from_dict(lr_accuracies)\n",
    "plt.title(\"Accuracy of Low Rank Approximation vs. Rank\")\n",
    "lr_accuracy_df.boxplot();"
   ],
   "metadata": {
    "collapsed": false,
    "pycharm": {
     "name": "#%%\n"
    }
   }
  },
  {
   "cell_type": "code",
   "execution_count": 26,
   "outputs": [],
   "source": [
    "lr_faces = [ image_low_rank_approximation(face, 20) for face in faces ]\n",
    "lr_array = np.array(lr_faces)\n",
    "red, green, blue = np.split(lr_array, 3, axis=3)"
   ],
   "metadata": {
    "collapsed": false,
    "pycharm": {
     "name": "#%%\n"
    }
   }
  },
  {
   "cell_type": "code",
   "execution_count": 27,
   "outputs": [
    {
     "name": "stdout",
     "output_type": "stream",
     "text": [
      "Computing 50 Eigenfaces\n",
      "Finished Eigenfaces\n"
     ]
    },
    {
     "data": {
      "text/plain": "  0%|          | 0/100 [00:00<?, ?it/s]",
      "application/vnd.jupyter.widget-view+json": {
       "version_major": 2,
       "version_minor": 0,
       "model_id": "9d1ca137e490437eb7564b6463bc5c9f"
      }
     },
     "metadata": {},
     "output_type": "display_data"
    },
    {
     "name": "stdout",
     "output_type": "stream",
     "text": [
      "Computing 100 Eigenfaces\n",
      "Finished Eigenfaces\n"
     ]
    },
    {
     "data": {
      "text/plain": "  0%|          | 0/100 [00:00<?, ?it/s]",
      "application/vnd.jupyter.widget-view+json": {
       "version_major": 2,
       "version_minor": 0,
       "model_id": "a577cdbfc54a4747b112fb62a5bd5052"
      }
     },
     "metadata": {},
     "output_type": "display_data"
    },
    {
     "name": "stdout",
     "output_type": "stream",
     "text": [
      "Computing 150 Eigenfaces\n",
      "Finished Eigenfaces\n"
     ]
    },
    {
     "data": {
      "text/plain": "  0%|          | 0/100 [00:00<?, ?it/s]",
      "application/vnd.jupyter.widget-view+json": {
       "version_major": 2,
       "version_minor": 0,
       "model_id": "9d88222225384a479039df93a86dea96"
      }
     },
     "metadata": {},
     "output_type": "display_data"
    },
    {
     "name": "stdout",
     "output_type": "stream",
     "text": [
      "Computing 200 Eigenfaces\n",
      "Finished Eigenfaces\n"
     ]
    },
    {
     "data": {
      "text/plain": "  0%|          | 0/100 [00:00<?, ?it/s]",
      "application/vnd.jupyter.widget-view+json": {
       "version_major": 2,
       "version_minor": 0,
       "model_id": "2e4805ec341c4a58a084dc3d541ca335"
      }
     },
     "metadata": {},
     "output_type": "display_data"
    },
    {
     "name": "stdout",
     "output_type": "stream",
     "text": [
      "Computing 250 Eigenfaces\n",
      "Finished Eigenfaces\n"
     ]
    },
    {
     "data": {
      "text/plain": "  0%|          | 0/100 [00:00<?, ?it/s]",
      "application/vnd.jupyter.widget-view+json": {
       "version_major": 2,
       "version_minor": 0,
       "model_id": "2a031516bbe24e1db216c1f77329cd5a"
      }
     },
     "metadata": {},
     "output_type": "display_data"
    },
    {
     "name": "stdout",
     "output_type": "stream",
     "text": [
      "Computing 300 Eigenfaces\n",
      "Finished Eigenfaces\n"
     ]
    },
    {
     "data": {
      "text/plain": "  0%|          | 0/100 [00:00<?, ?it/s]",
      "application/vnd.jupyter.widget-view+json": {
       "version_major": 2,
       "version_minor": 0,
       "model_id": "4da1067e1b8d4eaf838539a83c446d12"
      }
     },
     "metadata": {},
     "output_type": "display_data"
    },
    {
     "name": "stdout",
     "output_type": "stream",
     "text": [
      "Computing 350 Eigenfaces\n",
      "Finished Eigenfaces\n"
     ]
    },
    {
     "data": {
      "text/plain": "  0%|          | 0/100 [00:00<?, ?it/s]",
      "application/vnd.jupyter.widget-view+json": {
       "version_major": 2,
       "version_minor": 0,
       "model_id": "69710e6734cc4b04b83fb3c8cc7f9f59"
      }
     },
     "metadata": {},
     "output_type": "display_data"
    },
    {
     "name": "stdout",
     "output_type": "stream",
     "text": [
      "Computing 400 Eigenfaces\n",
      "Finished Eigenfaces\n"
     ]
    },
    {
     "data": {
      "text/plain": "  0%|          | 0/100 [00:00<?, ?it/s]",
      "application/vnd.jupyter.widget-view+json": {
       "version_major": 2,
       "version_minor": 0,
       "model_id": "b87c58a1164f418bbecb759f54b6907b"
      }
     },
     "metadata": {},
     "output_type": "display_data"
    },
    {
     "name": "stdout",
     "output_type": "stream",
     "text": [
      "Computing 450 Eigenfaces\n",
      "Finished Eigenfaces\n"
     ]
    },
    {
     "data": {
      "text/plain": "  0%|          | 0/100 [00:00<?, ?it/s]",
      "application/vnd.jupyter.widget-view+json": {
       "version_major": 2,
       "version_minor": 0,
       "model_id": "e41e08344fda4841bf06346531cb79b5"
      }
     },
     "metadata": {},
     "output_type": "display_data"
    }
   ],
   "source": [
    "eigenface_dict = dict()\n",
    "accuracies = dict()\n",
    "\n",
    "for num_faces in range(50, 500, 50):\n",
    "    print(\"Computing {} Eigenfaces\".format(num_faces))\n",
    "    red_eigenface_array, P_r, C_r, M_r, Y_r = eigenfaces(red, num_faces)\n",
    "    green_eigenface_array, P_g, C_g, M_g, Y_g = eigenfaces(green, num_faces)\n",
    "    blue_eigenface_array, P_b, C_b, M_b, Y_b = eigenfaces(blue, num_faces)\n",
    "    print(\"Finished Eigenfaces\")\n",
    "\n",
    "    eigenface_dict[num_faces] = ((red_eigenface_array, P_r, C_r, M_r, Y_r), (green_eigenface_array, P_g, C_g, M_g, Y_g), (blue_eigenface_array, P_b, C_b, M_b, Y_b))\n",
    "    accuracies[num_faces] = list()\n",
    "\n",
    "    for face in tqdm(range(100)):\n",
    "        reconstruction = np.dstack((\n",
    "            reconstruct(Y_r, C_r, M_r, face),\n",
    "            reconstruct(Y_g, C_g, M_g, face),\n",
    "            reconstruct(Y_b, C_b, M_b, face)\n",
    "        ))\n",
    "\n",
    "        accuracies[num_faces].append(accuracy(faces[face], reconstruction))"
   ],
   "metadata": {
    "collapsed": false,
    "pycharm": {
     "name": "#%%\n"
    }
   }
  },
  {
   "cell_type": "code",
   "execution_count": 28,
   "outputs": [
    {
     "data": {
      "text/plain": "         50        100       150       200       250       300       350  \\\n0   0.102692  0.069139  0.053754  0.045429  0.036987  0.032233  0.029204   \n1   0.103454  0.067084  0.051467  0.040087  0.034412  0.030010  0.025492   \n2   0.067733  0.047300  0.037915  0.031394  0.026990  0.022964  0.020845   \n3   0.081415  0.054282  0.040883  0.033731  0.029177  0.025721  0.022665   \n4   0.072596  0.054165  0.047281  0.040248  0.036039  0.031037  0.028588   \n..       ...       ...       ...       ...       ...       ...       ...   \n95  0.100281  0.075062  0.057355  0.051206  0.045345  0.040785  0.037045   \n96  0.067864  0.052960  0.044289  0.039742  0.035891  0.032362  0.028265   \n97  0.076749  0.057248  0.046134  0.036746  0.032434  0.028405  0.025488   \n98  0.110397  0.085448  0.069496  0.059030  0.051824  0.045386  0.042519   \n99  0.107307  0.086429  0.068704  0.056165  0.048582  0.043247  0.038930   \n\n         400       450  \n0   0.025994  0.023295  \n1   0.022764  0.020380  \n2   0.018411  0.015865  \n3   0.020074  0.018819  \n4   0.026693  0.023962  \n..       ...       ...  \n95  0.034538  0.031504  \n96  0.026030  0.023967  \n97  0.022903  0.021256  \n98  0.038777  0.036175  \n99  0.035311  0.032759  \n\n[100 rows x 9 columns]",
      "text/html": "<div>\n<style scoped>\n    .dataframe tbody tr th:only-of-type {\n        vertical-align: middle;\n    }\n\n    .dataframe tbody tr th {\n        vertical-align: top;\n    }\n\n    .dataframe thead th {\n        text-align: right;\n    }\n</style>\n<table border=\"1\" class=\"dataframe\">\n  <thead>\n    <tr style=\"text-align: right;\">\n      <th></th>\n      <th>50</th>\n      <th>100</th>\n      <th>150</th>\n      <th>200</th>\n      <th>250</th>\n      <th>300</th>\n      <th>350</th>\n      <th>400</th>\n      <th>450</th>\n    </tr>\n  </thead>\n  <tbody>\n    <tr>\n      <th>0</th>\n      <td>0.102692</td>\n      <td>0.069139</td>\n      <td>0.053754</td>\n      <td>0.045429</td>\n      <td>0.036987</td>\n      <td>0.032233</td>\n      <td>0.029204</td>\n      <td>0.025994</td>\n      <td>0.023295</td>\n    </tr>\n    <tr>\n      <th>1</th>\n      <td>0.103454</td>\n      <td>0.067084</td>\n      <td>0.051467</td>\n      <td>0.040087</td>\n      <td>0.034412</td>\n      <td>0.030010</td>\n      <td>0.025492</td>\n      <td>0.022764</td>\n      <td>0.020380</td>\n    </tr>\n    <tr>\n      <th>2</th>\n      <td>0.067733</td>\n      <td>0.047300</td>\n      <td>0.037915</td>\n      <td>0.031394</td>\n      <td>0.026990</td>\n      <td>0.022964</td>\n      <td>0.020845</td>\n      <td>0.018411</td>\n      <td>0.015865</td>\n    </tr>\n    <tr>\n      <th>3</th>\n      <td>0.081415</td>\n      <td>0.054282</td>\n      <td>0.040883</td>\n      <td>0.033731</td>\n      <td>0.029177</td>\n      <td>0.025721</td>\n      <td>0.022665</td>\n      <td>0.020074</td>\n      <td>0.018819</td>\n    </tr>\n    <tr>\n      <th>4</th>\n      <td>0.072596</td>\n      <td>0.054165</td>\n      <td>0.047281</td>\n      <td>0.040248</td>\n      <td>0.036039</td>\n      <td>0.031037</td>\n      <td>0.028588</td>\n      <td>0.026693</td>\n      <td>0.023962</td>\n    </tr>\n    <tr>\n      <th>...</th>\n      <td>...</td>\n      <td>...</td>\n      <td>...</td>\n      <td>...</td>\n      <td>...</td>\n      <td>...</td>\n      <td>...</td>\n      <td>...</td>\n      <td>...</td>\n    </tr>\n    <tr>\n      <th>95</th>\n      <td>0.100281</td>\n      <td>0.075062</td>\n      <td>0.057355</td>\n      <td>0.051206</td>\n      <td>0.045345</td>\n      <td>0.040785</td>\n      <td>0.037045</td>\n      <td>0.034538</td>\n      <td>0.031504</td>\n    </tr>\n    <tr>\n      <th>96</th>\n      <td>0.067864</td>\n      <td>0.052960</td>\n      <td>0.044289</td>\n      <td>0.039742</td>\n      <td>0.035891</td>\n      <td>0.032362</td>\n      <td>0.028265</td>\n      <td>0.026030</td>\n      <td>0.023967</td>\n    </tr>\n    <tr>\n      <th>97</th>\n      <td>0.076749</td>\n      <td>0.057248</td>\n      <td>0.046134</td>\n      <td>0.036746</td>\n      <td>0.032434</td>\n      <td>0.028405</td>\n      <td>0.025488</td>\n      <td>0.022903</td>\n      <td>0.021256</td>\n    </tr>\n    <tr>\n      <th>98</th>\n      <td>0.110397</td>\n      <td>0.085448</td>\n      <td>0.069496</td>\n      <td>0.059030</td>\n      <td>0.051824</td>\n      <td>0.045386</td>\n      <td>0.042519</td>\n      <td>0.038777</td>\n      <td>0.036175</td>\n    </tr>\n    <tr>\n      <th>99</th>\n      <td>0.107307</td>\n      <td>0.086429</td>\n      <td>0.068704</td>\n      <td>0.056165</td>\n      <td>0.048582</td>\n      <td>0.043247</td>\n      <td>0.038930</td>\n      <td>0.035311</td>\n      <td>0.032759</td>\n    </tr>\n  </tbody>\n</table>\n<p>100 rows × 9 columns</p>\n</div>"
     },
     "execution_count": 28,
     "metadata": {},
     "output_type": "execute_result"
    }
   ],
   "source": [
    "accuracy_df = pd.DataFrame.from_dict(accuracies)\n",
    "accuracy_df"
   ],
   "metadata": {
    "collapsed": false,
    "pycharm": {
     "name": "#%%\n"
    }
   }
  },
  {
   "cell_type": "code",
   "execution_count": 30,
   "outputs": [],
   "source": [
    "accuracy_df = 1 - accuracy_df"
   ],
   "metadata": {
    "collapsed": false,
    "pycharm": {
     "name": "#%%\n"
    }
   }
  },
  {
   "cell_type": "code",
   "execution_count": 31,
   "outputs": [
    {
     "data": {
      "text/plain": "<AxesSubplot:title={'center':'Accuracy of Reconstruction vs. Number of Eigenfaces'}>"
     },
     "execution_count": 31,
     "metadata": {},
     "output_type": "execute_result"
    },
    {
     "data": {
      "text/plain": "<Figure size 432x288 with 1 Axes>",
      "image/png": "[encoded data removed]"
     },
     "metadata": {
      "needs_background": "light"
     },
     "output_type": "display_data"
    }
   ],
   "source": [
    "plt.title(\"Accuracy of Reconstruction vs. Number of Eigenfaces\")\n",
    "accuracy_df.boxplot()"
   ],
   "metadata": {
    "collapsed": false,
    "pycharm": {
     "name": "#%%\n"
    }
   }
  }
 ],
 "metadata": {
  "kernelspec": {
   "display_name": "Python 3",
   "language": "python",
   "name": "python3"
  },
  "language_info": {
   "codemirror_mode": {
    "name": "ipython",
    "version": 2
   },
   "file_extension": ".py",
   "mimetype": "text/x-python",
   "name": "python",
   "nbconvert_exporter": "python",
   "pygments_lexer": "ipython2",
   "version": "2.7.6"
  }
 },
 "nbformat": 4,
 "nbformat_minor": 0
}