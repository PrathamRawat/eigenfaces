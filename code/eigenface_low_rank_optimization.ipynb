{
 "cells": [
  {
   "cell_type": "code",
   "execution_count": 1,
   "metadata": {
    "collapsed": true
   },
   "outputs": [],
   "source": [
    "import os\n",
    "import pandas as pd\n",
    "import matplotlib.pyplot as plt\n",
    "import numpy as np\n",
    "from PIL import Image\n",
    "from tqdm.notebook import tqdm"
   ]
  },
  {
   "cell_type": "code",
   "execution_count": 2,
   "outputs": [],
   "source": [
    "celebs = os.listdir(\"../cropped_faces\")\n",
    "faces = []\n",
    "\n",
    "for celeb in celebs:\n",
    "    faces.append(np.asarray(Image.open(\"../cropped_faces/{}\".format(celeb))))\n",
    "\n",
    "face_array = np.array(faces)\n",
    "red, green, blue = np.split(face_array, 3, axis=3)"
   ],
   "metadata": {
    "collapsed": false,
    "pycharm": {
     "name": "#%%\n"
    }
   }
  },
  {
   "cell_type": "code",
   "execution_count": 3,
   "outputs": [],
   "source": [
    "def get_random_face():\n",
    "    index = np.random.randint(0, len(face_array))\n",
    "    return faces[index], index\n"
   ],
   "metadata": {
    "collapsed": false,
    "pycharm": {
     "name": "#%%\n"
    }
   }
  },
  {
   "cell_type": "code",
   "execution_count": 4,
   "outputs": [
    {
     "data": {
      "text/plain": "<matplotlib.image.AxesImage at 0x7fe7cb819400>"
     },
     "execution_count": 4,
     "metadata": {},
     "output_type": "execute_result"
    },
    {
     "data": {
      "text/plain": "<Figure size 432x288 with 1 Axes>",
      "image/png": "[encoded data removed]"
     },
     "metadata": {
      "needs_background": "light"
     },
     "output_type": "display_data"
    }
   ],
   "source": [
    "plt.imshow(get_random_face()[0], cmap=plt.cm.rainbow)\n"
   ],
   "metadata": {
    "collapsed": false,
    "pycharm": {
     "name": "#%%\n"
    }
   }
  },
  {
   "cell_type": "code",
   "execution_count": 5,
   "outputs": [],
   "source": [
    "def pca(X, n_pc):\n",
    "    mean = np.mean(X, axis=0)\n",
    "    centered_data = X - mean # Subtracting the mean from the data\n",
    "    U, S, V = np.linalg.svd(centered_data) # Taking the SVD from the data\n",
    "    components = V[:n_pc] # Extracting the principal components\n",
    "    projected = U[:,:n_pc]*S[:n_pc]\n",
    "\n",
    "    return projected, components, mean, centered_data"
   ],
   "metadata": {
    "collapsed": false,
    "pycharm": {
     "name": "#%%\n"
    }
   }
  },
  {
   "cell_type": "code",
   "execution_count": 6,
   "outputs": [],
   "source": [
    "def eigenfaces(data, faces=50):\n",
    "    samples, h, w, d = data.shape\n",
    "    X = data.reshape(samples, h*w) # vectorizing the images\n",
    "    P, C, M, Y = pca(X, n_pc=faces) # running PCA with the number of principal components specified\n",
    "    return C.reshape((faces, h, w)), P, C, M, Y #reshaping the principal components to be images\n",
    "\n",
    "def reconstruct(mean_centered, components, mean, index):\n",
    "    weights = np.dot(mean_centered, components.T)\n",
    "    centered_vector = np.dot(weights[index, :], components) # applying weights to each of the components\n",
    "    recovered = (mean + centered_vector).reshape(64, 64)\n",
    "    return recovered"
   ],
   "metadata": {
    "collapsed": false,
    "pycharm": {
     "name": "#%%\n"
    }
   }
  },
  {
   "cell_type": "code",
   "execution_count": 7,
   "outputs": [],
   "source": [
    "def accuracy(original, reconstruction):\n",
    "    difference = original - reconstruction\n",
    "    sum = np.sum(np.abs(difference))\n",
    "    return sum / np.sum(original)"
   ],
   "metadata": {
    "collapsed": false,
    "pycharm": {
     "name": "#%%\n"
    }
   }
  },
  {
   "cell_type": "code",
   "execution_count": 8,
   "outputs": [],
   "source": [
    "def list_to_diagonal(list, size):\n",
    "    output = np.zeros((len(list), len(list)))\n",
    "    if size != 0:\n",
    "        output = np.zeros((size, size))\n",
    "    for x in range(len(list)):\n",
    "        output[x, x] = list[x]\n",
    "    return output\n",
    "\n",
    "def image_low_rank_approximation(array, rank):\n",
    "    U_red, S_red, V_red = np.linalg.svd(array[:,:,0])\n",
    "    U_green, S_green, V_green = np.linalg.svd(array[:,:,1])\n",
    "    U_blue, S_blue, V_blue = np.linalg.svd(array[:,:,2])\n",
    "    red_approx = np.zeros((64, 64))\n",
    "    green_approx = np.zeros((64, 64))\n",
    "    blue_approx = np.zeros((64, 64))\n",
    "    for x in range(rank):\n",
    "        red_approx += S_red[x] * np.outer(U_red.transpose()[x], V_red[x])\n",
    "        green_approx += S_green[x] * np.outer(U_green.transpose()[x], V_green[x])\n",
    "        blue_approx += S_blue[x] * np.outer(U_blue.transpose()[x], V_blue[x])\n",
    "    return np.dstack((red_approx, green_approx, blue_approx))\n"
   ],
   "metadata": {
    "collapsed": false,
    "pycharm": {
     "name": "#%%\n"
    }
   }
  },
  {
   "cell_type": "code",
   "execution_count": 9,
   "outputs": [
    {
     "data": {
      "text/plain": "  0%|          | 0/22 [00:00<?, ?it/s]",
      "application/vnd.jupyter.widget-view+json": {
       "version_major": 2,
       "version_minor": 0,
       "model_id": "787cfdd86a554ec89eed386868370efb"
      }
     },
     "metadata": {},
     "output_type": "display_data"
    },
    {
     "data": {
      "text/plain": "  0%|          | 0/100 [00:00<?, ?it/s]",
      "application/vnd.jupyter.widget-view+json": {
       "version_major": 2,
       "version_minor": 0,
       "model_id": "fe9b531ee07a406a924ef11b81eac310"
      }
     },
     "metadata": {},
     "output_type": "display_data"
    },
    {
     "data": {
      "text/plain": "  0%|          | 0/100 [00:00<?, ?it/s]",
      "application/vnd.jupyter.widget-view+json": {
       "version_major": 2,
       "version_minor": 0,
       "model_id": "fb00729315a54377a3d7f5b5ce054da8"
      }
     },
     "metadata": {},
     "output_type": "display_data"
    },
    {
     "data": {
      "text/plain": "  0%|          | 0/100 [00:00<?, ?it/s]",
      "application/vnd.jupyter.widget-view+json": {
       "version_major": 2,
       "version_minor": 0,
       "model_id": "37de54bafc664527b68f80a38b67c8aa"
      }
     },
     "metadata": {},
     "output_type": "display_data"
    },
    {
     "data": {
      "text/plain": "  0%|          | 0/100 [00:00<?, ?it/s]",
      "application/vnd.jupyter.widget-view+json": {
       "version_major": 2,
       "version_minor": 0,
       "model_id": "601986177ea346bd954688f58912c636"
      }
     },
     "metadata": {},
     "output_type": "display_data"
    },
    {
     "data": {
      "text/plain": "  0%|          | 0/100 [00:00<?, ?it/s]",
      "application/vnd.jupyter.widget-view+json": {
       "version_major": 2,
       "version_minor": 0,
       "model_id": "1d6adf59bc664eedada3804d8c8f1aa1"
      }
     },
     "metadata": {},
     "output_type": "display_data"
    },
    {
     "data": {
      "text/plain": "  0%|          | 0/100 [00:00<?, ?it/s]",
      "application/vnd.jupyter.widget-view+json": {
       "version_major": 2,
       "version_minor": 0,
       "model_id": "74a0d66cd3994e9ea55c344ed4cf4126"
      }
     },
     "metadata": {},
     "output_type": "display_data"
    },
    {
     "data": {
      "text/plain": "  0%|          | 0/100 [00:00<?, ?it/s]",
      "application/vnd.jupyter.widget-view+json": {
       "version_major": 2,
       "version_minor": 0,
       "model_id": "1f108172fd3c46229d6420e726edb526"
      }
     },
     "metadata": {},
     "output_type": "display_data"
    },
    {
     "data": {
      "text/plain": "  0%|          | 0/100 [00:00<?, ?it/s]",
      "application/vnd.jupyter.widget-view+json": {
       "version_major": 2,
       "version_minor": 0,
       "model_id": "32bd7020ff2f40899748bc7aebf56be5"
      }
     },
     "metadata": {},
     "output_type": "display_data"
    },
    {
     "data": {
      "text/plain": "  0%|          | 0/100 [00:00<?, ?it/s]",
      "application/vnd.jupyter.widget-view+json": {
       "version_major": 2,
       "version_minor": 0,
       "model_id": "5539fc1aab4b4235bf851cdb519ea807"
      }
     },
     "metadata": {},
     "output_type": "display_data"
    },
    {
     "data": {
      "text/plain": "  0%|          | 0/100 [00:00<?, ?it/s]",
      "application/vnd.jupyter.widget-view+json": {
       "version_major": 2,
       "version_minor": 0,
       "model_id": "19dd1d8f07c2415a9316b8c3295d164a"
      }
     },
     "metadata": {},
     "output_type": "display_data"
    },
    {
     "data": {
      "text/plain": "  0%|          | 0/100 [00:00<?, ?it/s]",
      "application/vnd.jupyter.widget-view+json": {
       "version_major": 2,
       "version_minor": 0,
       "model_id": "a9631660ec9a41cb85cfcd3e63c5e947"
      }
     },
     "metadata": {},
     "output_type": "display_data"
    },
    {
     "data": {
      "text/plain": "  0%|          | 0/100 [00:00<?, ?it/s]",
      "application/vnd.jupyter.widget-view+json": {
       "version_major": 2,
       "version_minor": 0,
       "model_id": "2bed5e36defc4c599402278b56ce67f6"
      }
     },
     "metadata": {},
     "output_type": "display_data"
    },
    {
     "data": {
      "text/plain": "  0%|          | 0/100 [00:00<?, ?it/s]",
      "application/vnd.jupyter.widget-view+json": {
       "version_major": 2,
       "version_minor": 0,
       "model_id": "f5ce08fc8a00485997658664d0e85230"
      }
     },
     "metadata": {},
     "output_type": "display_data"
    },
    {
     "data": {
      "text/plain": "  0%|          | 0/100 [00:00<?, ?it/s]",
      "application/vnd.jupyter.widget-view+json": {
       "version_major": 2,
       "version_minor": 0,
       "model_id": "0eed6cf86d034306a0064cdbaec9d823"
      }
     },
     "metadata": {},
     "output_type": "display_data"
    },
    {
     "data": {
      "text/plain": "  0%|          | 0/100 [00:00<?, ?it/s]",
      "application/vnd.jupyter.widget-view+json": {
       "version_major": 2,
       "version_minor": 0,
       "model_id": "19e1bda009364aa68fbdf179693908b4"
      }
     },
     "metadata": {},
     "output_type": "display_data"
    },
    {
     "data": {
      "text/plain": "  0%|          | 0/100 [00:00<?, ?it/s]",
      "application/vnd.jupyter.widget-view+json": {
       "version_major": 2,
       "version_minor": 0,
       "model_id": "581825051d6e4e239c68585ba00dfa0a"
      }
     },
     "metadata": {},
     "output_type": "display_data"
    },
    {
     "data": {
      "text/plain": "  0%|          | 0/100 [00:00<?, ?it/s]",
      "application/vnd.jupyter.widget-view+json": {
       "version_major": 2,
       "version_minor": 0,
       "model_id": "3cd54267ecd440718215010cabe7c898"
      }
     },
     "metadata": {},
     "output_type": "display_data"
    },
    {
     "data": {
      "text/plain": "  0%|          | 0/100 [00:00<?, ?it/s]",
      "application/vnd.jupyter.widget-view+json": {
       "version_major": 2,
       "version_minor": 0,
       "model_id": "3ce33b0225a64e5dadb730144d1d2d95"
      }
     },
     "metadata": {},
     "output_type": "display_data"
    },
    {
     "data": {
      "text/plain": "  0%|          | 0/100 [00:00<?, ?it/s]",
      "application/vnd.jupyter.widget-view+json": {
       "version_major": 2,
       "version_minor": 0,
       "model_id": "475fcd660db94db89bb6ce4a37d8839e"
      }
     },
     "metadata": {},
     "output_type": "display_data"
    },
    {
     "data": {
      "text/plain": "  0%|          | 0/100 [00:00<?, ?it/s]",
      "application/vnd.jupyter.widget-view+json": {
       "version_major": 2,
       "version_minor": 0,
       "model_id": "f16d9980d94c4d5ea1a395f56dd8e530"
      }
     },
     "metadata": {},
     "output_type": "display_data"
    },
    {
     "data": {
      "text/plain": "  0%|          | 0/100 [00:00<?, ?it/s]",
      "application/vnd.jupyter.widget-view+json": {
       "version_major": 2,
       "version_minor": 0,
       "model_id": "07ecbf16a3cb4a4cb175f79279300fa3"
      }
     },
     "metadata": {},
     "output_type": "display_data"
    },
    {
     "data": {
      "text/plain": "  0%|          | 0/100 [00:00<?, ?it/s]",
      "application/vnd.jupyter.widget-view+json": {
       "version_major": 2,
       "version_minor": 0,
       "model_id": "446bd381a67f4a82819f74b988869620"
      }
     },
     "metadata": {},
     "output_type": "display_data"
    }
   ],
   "source": [
    "lr_accuracies = {}\n",
    "\n",
    "for x in tqdm(range(1, 65, 3)):\n",
    "    lr_accuracies[x] = list()\n",
    "    for face in tqdm(range(100)):\n",
    "        lr_accuracies[x].append(1 - accuracy(faces[face], image_low_rank_approximation(faces[face], x)))"
   ],
   "metadata": {
    "collapsed": false,
    "pycharm": {
     "name": "#%%\n"
    }
   }
  },
  {
   "cell_type": "code",
   "execution_count": 10,
   "outputs": [
    {
     "data": {
      "text/plain": "<Figure size 432x288 with 1 Axes>",
      "image/png": "[encoded data removed]"
     },
     "metadata": {
      "needs_background": "light"
     },
     "output_type": "display_data"
    }
   ],
   "source": [
    "lr_accuracy_df = pd.DataFrame.from_dict(lr_accuracies)\n",
    "plt.title(\"Accuracy of Low Rank Approximation vs. Rank\")\n",
    "lr_accuracy_df.boxplot();"
   ],
   "metadata": {
    "collapsed": false,
    "pycharm": {
     "name": "#%%\n"
    }
   }
  },
  {
   "cell_type": "code",
   "execution_count": 11,
   "outputs": [],
   "source": [
    "lr_faces = [ image_low_rank_approximation(face, 20) for face in faces ]\n",
    "lr_array = np.array(lr_faces)\n",
    "red, green, blue = np.split(lr_array, 3, axis=3)"
   ],
   "metadata": {
    "collapsed": false,
    "pycharm": {
     "name": "#%%\n"
    }
   }
  },
  {
   "cell_type": "code",
   "execution_count": null,
   "outputs": [
    {
     "name": "stdout",
     "output_type": "stream",
     "text": [
      "Computing 50 Eigenfaces\n",
      "Finished Eigenfaces\n"
     ]
    },
    {
     "data": {
      "text/plain": "  0%|          | 0/1000 [00:00<?, ?it/s]",
      "application/vnd.jupyter.widget-view+json": {
       "version_major": 2,
       "version_minor": 0,
       "model_id": "427e65b8498643fd9c216e81ebc07f0a"
      }
     },
     "metadata": {},
     "output_type": "display_data"
    }
   ],
   "source": [
    "eigenface_dict = dict()\n",
    "accuracies = dict()\n",
    "\n",
    "for num_faces in range(50, 1000, 50):\n",
    "    print(\"Computing {} Eigenfaces\".format(num_faces))\n",
    "    red_eigenface_array, P_r, C_r, M_r, Y_r = eigenfaces(red, num_faces)\n",
    "    green_eigenface_array, P_g, C_g, M_g, Y_g = eigenfaces(green, num_faces)\n",
    "    blue_eigenface_array, P_b, C_b, M_b, Y_b = eigenfaces(blue, num_faces)\n",
    "    print(\"Finished Eigenfaces\")\n",
    "\n",
    "    eigenface_dict[num_faces] = ((red_eigenface_array, P_r, C_r, M_r, Y_r), (green_eigenface_array, P_g, C_g, M_g, Y_g), (blue_eigenface_array, P_b, C_b, M_b, Y_b))\n",
    "    accuracies[num_faces] = list()\n",
    "\n",
    "    for face in tqdm(range(1000)):\n",
    "        reconstruction = np.dstack((\n",
    "            reconstruct(Y_r, C_r, M_r, face),\n",
    "            reconstruct(Y_g, C_g, M_g, face),\n",
    "            reconstruct(Y_b, C_b, M_b, face)\n",
    "        ))\n",
    "\n",
    "        accuracies[num_faces].append(accuracy(faces[face], reconstruction))"
   ],
   "metadata": {
    "collapsed": false,
    "pycharm": {
     "name": "#%%\n",
     "is_executing": true
    }
   }
  },
  {
   "cell_type": "code",
   "execution_count": null,
   "outputs": [],
   "source": [
    "accuracy_df = pd.DataFrame.from_dict(accuracies)\n",
    "accuracy_df"
   ],
   "metadata": {
    "collapsed": false,
    "pycharm": {
     "name": "#%%\n",
     "is_executing": true
    }
   }
  },
  {
   "cell_type": "code",
   "execution_count": null,
   "outputs": [],
   "source": [
    "accuracy_df = 1 - accuracy_df"
   ],
   "metadata": {
    "collapsed": false,
    "pycharm": {
     "name": "#%%\n",
     "is_executing": true
    }
   }
  },
  {
   "cell_type": "code",
   "execution_count": null,
   "outputs": [],
   "source": [
    "plt.title(\"Accuracy of Reconstruction vs. Number of Eigenfaces\")\n",
    "accuracy_df.boxplot()"
   ],
   "metadata": {
    "collapsed": false,
    "pycharm": {
     "name": "#%%\n",
     "is_executing": true
    }
   }
  }
 ],
 "metadata": {
  "kernelspec": {
   "display_name": "Python 3",
   "language": "python",
   "name": "python3"
  },
  "language_info": {
   "codemirror_mode": {
    "name": "ipython",
    "version": 2
   },
   "file_extension": ".py",
   "mimetype": "text/x-python",
   "name": "python",
   "nbconvert_exporter": "python",
   "pygments_lexer": "ipython2",
   "version": "2.7.6"
  }
 },
 "nbformat": 4,
 "nbformat_minor": 0
}