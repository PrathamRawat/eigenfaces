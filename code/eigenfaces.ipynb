{
  "nbformat": 4,
  "nbformat_minor": 5,
  "metadata": {
    "kernelspec": {
      "display_name": "Python 3",
      "language": "python",
      "name": "python3"
    },
    "language_info": {
      "codemirror_mode": {
        "name": "ipython",
        "version": 3
      },
      "file_extension": ".py",
      "mimetype": "text/x-python",
      "name": "python",
      "nbconvert_exporter": "python",
      "pygments_lexer": "ipython3",
      "version": "3.8.8"
    },
    "colab": {
      "name": "eigenfaces.ipynb",
      "provenance": []
    }
  },
  "cells": [
    {
      "cell_type": "code",
      "metadata": {
        "id": "36d22b60"
      },
      "source": [
        "\"\"\"Following codes are from https://towardsdatascience.com/eigenfaces-recovering-humans-from-ghosts-17606c328184;\n",
        "https://gist.github.com/n0acar/5a75dbfec2f0836426a7997296d6d19e#file-image_visualisation-py\"\"\"\n",
        "import matplotlib.pyplot as plt\n",
        "import numpy as np\n",
        "import os"
      ],
      "id": "36d22b60",
      "execution_count": null,
      "outputs": []
    },
    {
      "cell_type": "code",
      "metadata": {
        "id": "dc801267"
      },
      "source": [
        "\"\"\"It helps visualising the portraits from the dataset.\"\"\"\n",
        "def plot_portraits(images, titles, h, w, n_row, n_col):\n",
        "    plt.figure(figsize=(2.2 * n_col, 2.2 * n_row))\n",
        "    plt.subplots_adjust(bottom=0, left=.01, right=.99, top=.90, hspace=.20)\n",
        "    for i in range(n_row * n_col):\n",
        "        plt.subplot(n_row, n_col, i + 1)\n",
        "        plt.imshow(images[i].reshape((h, w)), cmap=plt.cm.gray)\n",
        "        plt.title(titles[i])\n",
        "        plt.xticks(())\n",
        "        plt.yticks(())"
      ],
      "id": "dc801267",
      "execution_count": null,
      "outputs": []
    },
    {
      "cell_type": "code",
      "metadata": {
        "colab": {
          "base_uri": "https://localhost:8080/",
          "height": 236
        },
        "id": "d7e81549",
        "outputId": "d0eee6ac-61a8-4ee3-f4a4-574f9076b8a5"
      },
      "source": [
        "dir='../lfwcrop_grey/faces'\n",
        "celebrity_photos=os.listdir(dir)[1:1001]\n",
        "celebrity_images=[dir+'/' + photo for photo in celebrity_photos]\n",
        "images=np.array([plt.imread(image) for image in celebrity_images], dtype=np.float64)\n",
        "celebrity_names=[name[:name.find('0')-1].replace(\"_\", \" \") for name in celebrity_photos]\n",
        "n_samples, h, w = images.shape\n",
        "plot_portraits(images, celebrity_names, h, w, n_row=4, n_col=4)"
      ],
      "id": "d7e81549",
      "execution_count": null,
      "outputs": [
        {
          "output_type": "error",
          "ename": "FileNotFoundError",
          "evalue": "ignored",
          "traceback": [
            "\u001b[0;31m---------------------------------------------------------------------------\u001b[0m",
            "\u001b[0;31mFileNotFoundError\u001b[0m                         Traceback (most recent call last)",
            "\u001b[0;32m<ipython-input-4-46b0b5c06916>\u001b[0m in \u001b[0;36m<module>\u001b[0;34m()\u001b[0m\n\u001b[1;32m      1\u001b[0m \u001b[0mdir\u001b[0m\u001b[0;34m=\u001b[0m\u001b[0;34m'../lfwcrop_grey/faces'\u001b[0m\u001b[0;34m\u001b[0m\u001b[0;34m\u001b[0m\u001b[0m\n\u001b[0;32m----> 2\u001b[0;31m \u001b[0mcelebrity_photos\u001b[0m\u001b[0;34m=\u001b[0m\u001b[0mos\u001b[0m\u001b[0;34m.\u001b[0m\u001b[0mlistdir\u001b[0m\u001b[0;34m(\u001b[0m\u001b[0mdir\u001b[0m\u001b[0;34m)\u001b[0m\u001b[0;34m[\u001b[0m\u001b[0;36m1\u001b[0m\u001b[0;34m:\u001b[0m\u001b[0;36m1001\u001b[0m\u001b[0;34m]\u001b[0m\u001b[0;34m\u001b[0m\u001b[0;34m\u001b[0m\u001b[0m\n\u001b[0m\u001b[1;32m      3\u001b[0m \u001b[0mcelebrity_images\u001b[0m\u001b[0;34m=\u001b[0m\u001b[0;34m[\u001b[0m\u001b[0mdir\u001b[0m\u001b[0;34m+\u001b[0m\u001b[0;34m'/'\u001b[0m \u001b[0;34m+\u001b[0m \u001b[0mphoto\u001b[0m \u001b[0;32mfor\u001b[0m \u001b[0mphoto\u001b[0m \u001b[0;32min\u001b[0m \u001b[0mcelebrity_photos\u001b[0m\u001b[0;34m]\u001b[0m\u001b[0;34m\u001b[0m\u001b[0;34m\u001b[0m\u001b[0m\n\u001b[1;32m      4\u001b[0m \u001b[0mimages\u001b[0m\u001b[0;34m=\u001b[0m\u001b[0mnp\u001b[0m\u001b[0;34m.\u001b[0m\u001b[0marray\u001b[0m\u001b[0;34m(\u001b[0m\u001b[0;34m[\u001b[0m\u001b[0mplt\u001b[0m\u001b[0;34m.\u001b[0m\u001b[0mimread\u001b[0m\u001b[0;34m(\u001b[0m\u001b[0mimage\u001b[0m\u001b[0;34m)\u001b[0m \u001b[0;32mfor\u001b[0m \u001b[0mimage\u001b[0m \u001b[0;32min\u001b[0m \u001b[0mcelebrity_images\u001b[0m\u001b[0;34m]\u001b[0m\u001b[0;34m,\u001b[0m \u001b[0mdtype\u001b[0m\u001b[0;34m=\u001b[0m\u001b[0mnp\u001b[0m\u001b[0;34m.\u001b[0m\u001b[0mfloat64\u001b[0m\u001b[0;34m)\u001b[0m\u001b[0;34m\u001b[0m\u001b[0;34m\u001b[0m\u001b[0m\n\u001b[1;32m      5\u001b[0m \u001b[0mcelebrity_names\u001b[0m\u001b[0;34m=\u001b[0m\u001b[0;34m[\u001b[0m\u001b[0mname\u001b[0m\u001b[0;34m[\u001b[0m\u001b[0;34m:\u001b[0m\u001b[0mname\u001b[0m\u001b[0;34m.\u001b[0m\u001b[0mfind\u001b[0m\u001b[0;34m(\u001b[0m\u001b[0;34m'0'\u001b[0m\u001b[0;34m)\u001b[0m\u001b[0;34m-\u001b[0m\u001b[0;36m1\u001b[0m\u001b[0;34m]\u001b[0m\u001b[0;34m.\u001b[0m\u001b[0mreplace\u001b[0m\u001b[0;34m(\u001b[0m\u001b[0;34m\"_\"\u001b[0m\u001b[0;34m,\u001b[0m \u001b[0;34m\" \"\u001b[0m\u001b[0;34m)\u001b[0m \u001b[0;32mfor\u001b[0m \u001b[0mname\u001b[0m \u001b[0;32min\u001b[0m \u001b[0mcelebrity_photos\u001b[0m\u001b[0;34m]\u001b[0m\u001b[0;34m\u001b[0m\u001b[0;34m\u001b[0m\u001b[0m\n",
            "\u001b[0;31mFileNotFoundError\u001b[0m: [Errno 2] No such file or directory: '../lfwcrop_grey/faces'"
          ]
        }
      ]
    },
    {
      "cell_type": "code",
      "metadata": {
        "id": "9da0aca7"
      },
      "source": [
        "def pca(X, n_pc):\n",
        "    n_samples, n_features = X.shape\n",
        "    mean = np.mean(X, axis=0)\n",
        "    centered_data = X-mean\n",
        "    U, S, V = np.linalg.svd(centered_data)\n",
        "    components = V[:n_pc]\n",
        "    projected = U[:,:n_pc]*S[:n_pc]\n",
        "    \n",
        "    return projected, components, mean, centered_data"
      ],
      "id": "9da0aca7",
      "execution_count": null,
      "outputs": []
    },
    {
      "cell_type": "code",
      "metadata": {
        "id": "07461a14"
      },
      "source": [
        "n_components = 50\n",
        "X = images.reshape(n_samples, h*w)\n",
        "P, C, M, Y= pca(X, n_pc=n_components)\n",
        "eigenfaces = C.reshape((n_components, h, w))\n",
        "eigenface_titles = [\"eigenface %d\" % i for i in range(eigenfaces.shape[0])]\n",
        "plot_portraits(eigenfaces, eigenface_titles, h, w, 4, 4) "
      ],
      "id": "07461a14",
      "execution_count": null,
      "outputs": []
    },
    {
      "cell_type": "code",
      "metadata": {
        "id": "4e631047"
      },
      "source": [
        "def reconstruction(Y, C, M, h, w, image_index):\n",
        "    n_samples, n_features = Y.shape\n",
        "    weights = np.dot(Y, C.T)\n",
        "    centered_vector=np.dot(weights[image_index, :], C)\n",
        "    recovered_image=(M+centered_vector).reshape(h, w)\n",
        "    return recovered_image\n",
        "recovered_images=[reconstruction(Y, C, M, h, w, i) for i in range(len(images))]\n",
        "plot_portraits(recovered_images, celebrity_names, h, w, n_row=4, n_col=4)"
      ],
      "id": "4e631047",
      "execution_count": null,
      "outputs": []
    }
  ]
}