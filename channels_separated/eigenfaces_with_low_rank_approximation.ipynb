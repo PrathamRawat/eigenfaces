{
 "nbformat": 4,
 "nbformat_minor": 5,
 "metadata": {
  "colab": {
   "name": "Final version eigenfaces_colorrgbseparated with low rank approximation.ipynb",
   "provenance": [],
   "collapsed_sections": []
  },
  "kernelspec": {
   "display_name": "Python 3",
   "language": "python",
   "name": "python3"
  },
  "language_info": {
   "codemirror_mode": {
    "name": "ipython",
    "version": 3
   },
   "file_extension": ".py",
   "mimetype": "text/x-python",
   "name": "python",
   "nbconvert_exporter": "python",
   "pygments_lexer": "ipython3",
   "version": "3.8.8"
  }
 },
 "cells": [
  {
   "cell_type": "code",
   "metadata": {
    "id": "36d22b60"
   },
   "source": [
    "\"\"\"Following codes are originally from \n",
    "https://towardsdatascience.com/eigenfaces-recovering-humans-from-ghosts-17606c328184;\n",
    "https://gist.github.com/n0acar/5a75dbfec2f0836426a7997296d6d19e#file-image_visualisation-py with modifications\"\"\"\n",
    "\n",
    "import matplotlib.pyplot as plt\n",
    "import numpy as np\n",
    "import os\n",
    "from PIL import Image #python imaging library\n",
    "import pandas as pd"
   ],
   "id": "36d22b60",
   "execution_count": 39,
   "outputs": []
  },
  {
   "cell_type": "code",
   "metadata": {
    "id": "dc801267"
   },
   "source": [
    "\"\"\"It helps visualising the portraits from the dataset.\"\"\"\n",
    "def plot_portraits(images, titles, h, w, n_row, n_col, channel):\n",
    "    plt.figure(figsize=(2.2 * n_col, 2.2 * n_row))\n",
    "    plt.subplots_adjust(bottom=0, left=.01, right=.99, top=.90, hspace=.20)\n",
    "    for i in range(n_row * n_col):\n",
    "        plt.subplot(n_row, n_col, i + 1)\n",
    "        plt.imshow(images[i], cmap=plt.get_cmap(channel))\n",
    "        plt.title(titles[i])\n",
    "        plt.xticks(())\n",
    "        plt.yticks(())"
   ],
   "id": "dc801267",
   "execution_count": 40,
   "outputs": []
  },
  {
   "cell_type": "code",
   "metadata": {
    "colab": {
     "base_uri": "https://localhost:8080/"
    },
    "id": "h0tHnMO_o1-H",
    "outputId": "05d175a9-e4fc-40b9-c7e2-a867a7ad32ba"
   },
   "source": [
    "from google.colab import drive\n",
    "drive.mount('/content/drive')"
   ],
   "id": "h0tHnMO_o1-H",
   "execution_count": 41,
   "outputs": [
    {
     "output_type": "stream",
     "name": "stdout",
     "text": [
      "Drive already mounted at /content/drive; to attempt to forcibly remount, call drive.mount(\"/content/drive\", force_remount=True).\n"
     ]
    }
   ]
  },
  {
   "cell_type": "code",
   "metadata": {
    "colab": {
     "base_uri": "https://localhost:8080/"
    },
    "id": "lbxdv6LuuPOR",
    "outputId": "e5bb40ce-b312-48f5-eb76-6d2316c742b7"
   },
   "source": [
    "os.listdir(\"/content/drive/MyDrive/CS_3220_Final_Project/Code/\")"
   ],
   "id": "lbxdv6LuuPOR",
   "execution_count": 42,
   "outputs": [
    {
     "output_type": "execute_result",
     "data": {
      "text/plain": [
       "['processor.ipynb',\n",
       " 'lfwcrop_grey',\n",
       " 'lfwcrop_color',\n",
       " 'k-means-example.ipynb',\n",
       " 'eigenfaces.ipynb',\n",
       " 'eigenfaces_color.ipynb',\n",
       " '100 of eigenfaces_colorrgbseparated.ipynb',\n",
       " '300 of eigenfaces_colorrgbseparated.ipynb',\n",
       " '150 of 100 of eigenfaces_colorrgbseparated.ipynb',\n",
       " '200 of eigenfaces_colorrgbseparated.ipynb',\n",
       " 'Copy of eigenfaces_colorrgbseparated.ipynb',\n",
       " 'eigenfaces_colorrgbseparated.ipynb',\n",
       " 'Final version eigenfaces_colorrgbseparated.ipynb',\n",
       " 'lra of Final version eigenfaces_colorrgbseparated.ipynb']"
      ]
     },
     "metadata": {},
     "execution_count": 42
    }
   ]
  },
  {
   "cell_type": "code",
   "metadata": {
    "id": "qCW0DjUUo7dt"
   },
   "source": [
    "dir = '/content/drive/MyDrive/CS_3220_Final_Project/Code/lfwcrop_color/faces'\n",
    "celebrity_photos=os.listdir(dir)[1:13201]\n",
    "celebrity_images=[dir+'/' + photo for photo in celebrity_photos]\n",
    "#images=np.array([np.asarray(Image.open(image)) for image in celebrity_images], dtype=np.float64)\n",
    "images = []\n",
    "for i in range(len(celebrity_images)):\n",
    "  images.append(np.asarray(Image.open(celebrity_images[i])))\n",
    "celebrity_names=[name[:name.find('0')-1].replace(\"_\", \" \") for name in celebrity_photos]\n",
    "n_samples = len(images)"
   ],
   "id": "qCW0DjUUo7dt",
   "execution_count": 49,
   "outputs": []
  },
  {
   "cell_type": "code",
   "metadata": {
    "id": "HUFIh4-6OuBD"
   },
   "source": [
    "def lowrank(img):\n",
    "    U, s, V = np.linalg.svd(img)\n",
    "    rank = np.linalg.matrix_rank(img, tol=None)\n",
    "    approx_rank = 20\n",
    "    S = np.diag(s)\n",
    "    approx_img = np.dot(\n",
    "    U[:, 0:approx_rank],\n",
    "        np.dot(\n",
    "            S[0:approx_rank, 0:approx_rank],\n",
    "            V[0:approx_rank, :]))\n",
    "    return approx_img\n",
    "\n",
    "def split23(images):\n",
    "  rset = []\n",
    "  gset = []\n",
    "  bset = []\n",
    "  rsetl = []\n",
    "  gsetl = []\n",
    "  bsetl = []\n",
    "  for i in range(len(images)):\n",
    "    im = Image.Image.split(Image.open(celebrity_images[i]))\n",
    "    rset.append(np.asarray(im[0]))\n",
    "    gset.append(np.asarray(im[1]))\n",
    "    bset.append(np.asarray(im[2]))\n",
    "    rsetl.append(np.asarray(lowrank(im[0])))\n",
    "    gsetl.append(np.asarray(lowrank(im[1])))\n",
    "    bsetl.append(np.asarray(lowrank(im[2])))\n",
    "  return rset, gset, bset, rsetl, gsetl, bsetl\n"
   ],
   "id": "HUFIh4-6OuBD",
   "execution_count": 6,
   "outputs": []
  },
  {
   "cell_type": "code",
   "metadata": {
    "id": "Y91ytQKfpQV2"
   },
   "source": [
    "\n",
    "  \n",
    "def pca(X, n_pc):\n",
    "    n_samples, n_features = X.shape\n",
    "    mean = np.mean(X, axis=0)\n",
    "    centered_data = X-mean\n",
    "    U, S, V = np.linalg.svd(centered_data)\n",
    "    components = V[:n_pc]\n",
    "    projected = U[:,:n_pc]*S[:n_pc]\n",
    "    return projected, components, mean, centered_data\n",
    " "
   ],
   "id": "Y91ytQKfpQV2",
   "execution_count": 7,
   "outputs": []
  },
  {
   "cell_type": "code",
   "metadata": {
    "id": "9da0aca7"
   },
   "source": [
    "def reconstruction(Y, C, M, h, w, image_index):\n",
    "    n_samples, n_features = Y.shape\n",
    "    weights = np.dot(Y, C.T)\n",
    "    centered_vector=np.dot(weights[image_index, :], C)\n",
    "    recovered_image=(M+centered_vector).reshape(h, w)\n",
    "    return recovered_image"
   ],
   "id": "9da0aca7",
   "execution_count": 8,
   "outputs": []
  },
  {
   "cell_type": "code",
   "metadata": {
    "id": "07461a14"
   },
   "source": [
    "def eigenfacesrgb(rset, gset, bset):\n",
    "  arrimagesr = np.array(rset)\n",
    "  rX = arrimagesr.reshape(n_samples, h*w)\n",
    "  rP, rC, rM, rY= pca(rX, n_pc=n_components)\n",
    "  reigenfaces = rC.reshape((n_components, h, w))\n",
    "  #reigenface_titles = [\"eigenface %d\" % i for i in range(reigenfaces.shape[0])]\n",
    "  #plot_portraits(reigenfaces, reigenface_titles, h, w, 4, 4,channel=\"Reds\") \n",
    "  arrimagesg = np.array(gset)\n",
    "  gX = arrimagesg.reshape(n_samples, h*w)\n",
    "  gP, gC, gM, gY= pca(gX, n_pc=n_components)\n",
    "  geigenfaces = gC.reshape((n_components, h, w))\n",
    "  #geigenface_titles = [\"eigenface %d\" % i for i in range(geigenfaces.shape[0])]\n",
    "  #plot_portraits(geigenfaces, geigenface_titles, h, w, 4, 4,channel=\"Greens\") \n",
    "  arrimagesb = np.array(bset)\n",
    "  bX = arrimagesb.reshape(n_samples, h*w)\n",
    "  bP, bC, bM, bY= pca(bX, n_pc=n_components)\n",
    "  beigenfaces = bC.reshape((n_components, h, w))\n",
    "  #beigenface_titles = [\"eigenface %d\" % i for i in range(beigenfaces.shape[0])]\n",
    "  #plot_portraits(beigenfaces, beigenface_titles, h, w, 4, 4,channel=\"Blues\") \n",
    "  return reigenfaces,geigenfaces,beigenfaces, rY, rC, rM, gY, gC, gM,bY, bC, bM"
   ],
   "id": "07461a14",
   "execution_count": 9,
   "outputs": []
  },
  {
   "cell_type": "code",
   "metadata": {
    "id": "AYXkswnCyo-D"
   },
   "source": [
    "def recoveredrgb(rY, rC, rM, gY, gC, gM,bY, bC, bM,h,w):\n",
    "  print(\"here1\")\n",
    "  rrecovered_images=[reconstruction(rY, rC, rM, h, w, i) for i in range(100)]#range(len(images))]\n",
    "  #plot_portraits(rrecovered_images, celebrity_names, h, w, n_row=4, n_col=4, channel=\"Reds\")\n",
    "  print(\"here2\")\n",
    "  grecovered_images=[reconstruction(gY, gC, gM, h, w, i) for i in range(100)]#range(len(images))]\n",
    "  #plot_portraits(grecovered_images, celebrity_names, h, w, n_row=4, n_col=4, channel=\"Greens\")\n",
    "  print(\"here2\")\n",
    "  brecovered_images=[reconstruction(bY, bC, bM, h, w, i) for i in range(100)]#range(len(images))]\n",
    "  #plot_portraits(brecovered_images, celebrity_names, h, w, n_row=4, n_col=4, channel=\"Blues\")\n",
    "  return rrecovered_images, grecovered_images, brecovered_images"
   ],
   "id": "AYXkswnCyo-D",
   "execution_count": 50,
   "outputs": []
  },
  {
   "cell_type": "code",
   "metadata": {
    "id": "CH8XXtJjhMfF"
   },
   "source": [
    "#print(rM,gM,bM)\n",
    "#plot_portraits([brecovered_images[0]], [celebrity_names[0]], h, w, n_row=1, n_col=1, channel=\"Blues\")"
   ],
   "id": "CH8XXtJjhMfF",
   "execution_count": null,
   "outputs": []
  },
  {
   "cell_type": "code",
   "metadata": {
    "id": "1y57YMalhTnS"
   },
   "source": [
    "# def justrgb(rrecovered_images,grecovered_images,brecovered_images,h,w):\n",
    "#   justr = np.asarray(rrecovered_images).reshape(len(rrecovered_images)*h*w)\n",
    "#   justg = np.asarray(grecovered_images).reshape(len(grecovered_images)*h*w)\n",
    "#   justb = np.asarray(brecovered_images).reshape(len(brecovered_images)*h*w)\n",
    "#   return justr, justg, justb\n",
    "# def minrgb(justr, justg, justb):\n",
    "#   minr = min(justr)\n",
    "#   ming = min(justg)\n",
    "#   minb = min(justb)\n",
    "#   return minr, ming, minb\n",
    "# def scalergb(justr, justg, justb,minr, ming, minb):\n",
    "#   scalr = 255/(max(justr) - minr)\n",
    "#   scalg = 255/(max(justg) - ming)\n",
    "#   scalb = 255/(max(justb) - minb)\n",
    "#   return scalr, scalg, scalb\n",
    "\n",
    "\n",
    "\n",
    "# def recon(im1, im2, im3):\n",
    "#   reconIm = []\n",
    "#   for i in range(len(im1)):\n",
    "#     temp1 = []\n",
    "#     for j in range(len(im1[0])):\n",
    "#       temp2 = [int(scalr*(im1[i][j]-minr)), int(scalg*(im2[i][j]-ming)), int(scalb*(im3[i][j]-minb))]\n",
    "#       temp1.append(temp2)\n",
    "#     reconIm.append(temp1)\n",
    "#   return reconIm\n",
    "\n",
    "def recon_and_set(h,w,im1, im2, im3,scalr,scalg,scalb,minr,ming,minb):\n",
    "  reconIm = []\n",
    "  reconr = []\n",
    "  recong = []\n",
    "  reconb = []\n",
    "  for i in range(len(im1)):\n",
    "    temp1r = []\n",
    "    temp1g = []\n",
    "    temp1b = []\n",
    "    temp1 = []\n",
    "    for j in range(len(im1[0])):\n",
    "      temp2r = int(scalr*(im1[i][j]-minr))\n",
    "      temp2g = int(scalg*(im2[i][j]-ming))\n",
    "      temp2b = int(scalb*(im3[i][j]-minb))\n",
    "      temp2 = [temp2r,temp2g,temp2b]\n",
    "      temp1r.append(temp2r)\n",
    "      temp1g.append(temp2g)\n",
    "      temp1b.append(temp2b)\n",
    "      temp1.append(temp2)\n",
    "    reconIm.append(temp1)\n",
    "    reconr.append(temp1r)\n",
    "    recong.append(temp1g)\n",
    "    reconb.append(temp1b)\n",
    "  return reconIm,reconr, recong, reconb"
   ],
   "id": "1y57YMalhTnS",
   "execution_count": 11,
   "outputs": []
  },
  {
   "cell_type": "code",
   "metadata": {
    "id": "4mEiC4d3nlB4"
   },
   "source": [
    "#print(rset[0][0])\n",
    "#temp = recon(rrecovered_images[0], grecovered_images[0], grecovered_images[0])\n",
    "#plot_portraits([temp], [celebrity_names[0]], h, w, n_row=1, n_col=1, channel=\"Blues\")"
   ],
   "id": "4mEiC4d3nlB4",
   "execution_count": null,
   "outputs": []
  },
  {
   "cell_type": "code",
   "source": [
    "def sets(rrecovered_images, grecovered_images,brecovered_images,h,w):\n",
    "  justr = np.asarray(rrecovered_images).reshape(len(rrecovered_images)*h*w)\n",
    "  justg = np.asarray(grecovered_images).reshape(len(grecovered_images)*h*w)\n",
    "  justb = np.asarray(brecovered_images).reshape(len(brecovered_images)*h*w)\n",
    "  minr = min(justr)\n",
    "  ming = min(justg)\n",
    "  minb = min(justb)\n",
    "  scalr = 255/(max(justr) - minr)\n",
    "  scalg = 255/(max(justg) - ming)\n",
    "  scalb = 255/(max(justb) - minb)\n",
    "  reconims = []\n",
    "  reconimrs = []\n",
    "  reconimgs = []\n",
    "  reconimbs = []\n",
    "  for i in range(len(rrecovered_images)):\n",
    "    newreim,newreimr,newreimg,newreimb = recon_and_set(h,w,rrecovered_images[i], grecovered_images[i], grecovered_images[i],scalr,scalg,scalb,minr,ming,minb)\n",
    "    reconims.append(newreim)\n",
    "    reconimrs.append(newreimr)\n",
    "    reconimgs.append(newreimg)\n",
    "    reconimbs.append(newreimb)\n",
    "  return reconimrs, reconimgs,reconimbs\n"
   ],
   "metadata": {
    "id": "Yg6LvmQC0_IA"
   },
   "id": "Yg6LvmQC0_IA",
   "execution_count": 12,
   "outputs": []
  },
  {
   "cell_type": "code",
   "source": [
    "def accuracy(original, reconstruction):\n",
    "    difference = original - reconstruction\n",
    "    sum = np.sum(np.abs(difference))\n",
    "    return sum / np.sum(original)\n",
    "def totalacc(rset,gset,bset,reconimrs,reconimgs,reconimbs):\n",
    "  temp = []\n",
    "  for i in range(100):\n",
    "    sum1 = accuracy(np.asarray(rset[i]),np.asarray(reconimrs[i]))\n",
    "    sum2 = accuracy(np.asarray(gset[i]),np.asarray(reconimgs[i]))\n",
    "    sum3 = accuracy(np.asarray(bset[i]),np.asarray(reconimbs[i]))\n",
    "    temp.append((sum1+sum2+sum3)/3)\n",
    "  return temp"
   ],
   "metadata": {
    "id": "0yy78blGnBGT"
   },
   "id": "0yy78blGnBGT",
   "execution_count": 51,
   "outputs": []
  },
  {
   "cell_type": "code",
   "source": [
    "thelist = [50,100,150,200,250,300,350,400,450]\n",
    "testinglist = [50]\n",
    "rset, gset, bset,rsetl, gsetl, bsetl = split23(images)\n",
    "h,w = gset[0].shape\n",
    "accuracies=dict()\n"
   ],
   "metadata": {
    "id": "eUR4WqigyFTh"
   },
   "id": "eUR4WqigyFTh",
   "execution_count": 52,
   "outputs": []
  },
  {
   "cell_type": "code",
   "source": [
    "for i in range(len(thelist)):\n",
    "  n_components = thelist[i]\n",
    "  reigenfaces,geigenfaces,beigenfaces, rY, rC, rM, gY, gC, gM,bY, bC, bM = eigenfacesrgb(rsetl, gsetl, bsetl)\n",
    "  rrecovered_images, grecovered_images, brecovered_images = recoveredrgb(rY, rC, rM, gY, gC, gM,bY, bC, bM,h,w)\n",
    "  reconimrs, reconimgs,reconimbs = sets(rrecovered_images, grecovered_images,brecovered_images,h,w)\n",
    "  theratio = totalacc(rset,gset,bset,reconimrs,reconimgs,reconimbs)\n",
    "  accuracies[thelist[i]]=totalacc(rset,gset,bset,reconimrs,reconimgs,reconimbs)\n",
    "accuracy_df = pd.DataFrame.from_dict(accuracies)\n",
    "accuracy_df"
   ],
   "metadata": {
    "id": "-LWR8WYBZ53E",
    "colab": {
     "base_uri": "https://localhost:8080/",
     "height": 892
    },
    "outputId": "a0d00f5b-11b4-466e-e3f7-af24097abb1c"
   },
   "id": "-LWR8WYBZ53E",
   "execution_count": 53,
   "outputs": [
    {
     "output_type": "stream",
     "name": "stdout",
     "text": [
      "here1\n",
      "here2\n",
      "here2\n",
      "here1\n",
      "here2\n",
      "here2\n",
      "here1\n",
      "here2\n",
      "here2\n",
      "here1\n",
      "here2\n",
      "here2\n",
      "here1\n",
      "here2\n",
      "here2\n",
      "here1\n",
      "here2\n",
      "here2\n",
      "here1\n",
      "here2\n",
      "here2\n",
      "here1\n",
      "here2\n",
      "here2\n",
      "here1\n",
      "here2\n",
      "here2\n"
     ]
    },
    {
     "output_type": "execute_result",
     "data": {
      "text/html": [
       "<div>\n",
       "<style scoped>\n",
       "    .dataframe tbody tr th:only-of-type {\n",
       "        vertical-align: middle;\n",
       "    }\n",
       "\n",
       "    .dataframe tbody tr th {\n",
       "        vertical-align: top;\n",
       "    }\n",
       "\n",
       "    .dataframe thead th {\n",
       "        text-align: right;\n",
       "    }\n",
       "</style>\n",
       "<table border=\"1\" class=\"dataframe\">\n",
       "  <thead>\n",
       "    <tr style=\"text-align: right;\">\n",
       "      <th></th>\n",
       "      <th>50</th>\n",
       "      <th>100</th>\n",
       "      <th>150</th>\n",
       "      <th>200</th>\n",
       "      <th>250</th>\n",
       "      <th>300</th>\n",
       "      <th>350</th>\n",
       "      <th>400</th>\n",
       "      <th>450</th>\n",
       "    </tr>\n",
       "  </thead>\n",
       "  <tbody>\n",
       "    <tr>\n",
       "      <th>0</th>\n",
       "      <td>0.189438</td>\n",
       "      <td>0.175135</td>\n",
       "      <td>0.173860</td>\n",
       "      <td>0.159624</td>\n",
       "      <td>0.170999</td>\n",
       "      <td>0.157619</td>\n",
       "      <td>0.150790</td>\n",
       "      <td>0.136617</td>\n",
       "      <td>0.131787</td>\n",
       "    </tr>\n",
       "    <tr>\n",
       "      <th>1</th>\n",
       "      <td>0.156441</td>\n",
       "      <td>0.144746</td>\n",
       "      <td>0.135477</td>\n",
       "      <td>0.127031</td>\n",
       "      <td>0.131568</td>\n",
       "      <td>0.120696</td>\n",
       "      <td>0.119641</td>\n",
       "      <td>0.108822</td>\n",
       "      <td>0.105551</td>\n",
       "    </tr>\n",
       "    <tr>\n",
       "      <th>2</th>\n",
       "      <td>0.221550</td>\n",
       "      <td>0.207325</td>\n",
       "      <td>0.217748</td>\n",
       "      <td>0.197810</td>\n",
       "      <td>0.218633</td>\n",
       "      <td>0.205246</td>\n",
       "      <td>0.193217</td>\n",
       "      <td>0.175049</td>\n",
       "      <td>0.169812</td>\n",
       "    </tr>\n",
       "    <tr>\n",
       "      <th>3</th>\n",
       "      <td>0.155528</td>\n",
       "      <td>0.140544</td>\n",
       "      <td>0.135746</td>\n",
       "      <td>0.128638</td>\n",
       "      <td>0.132664</td>\n",
       "      <td>0.123379</td>\n",
       "      <td>0.120891</td>\n",
       "      <td>0.109140</td>\n",
       "      <td>0.106060</td>\n",
       "    </tr>\n",
       "    <tr>\n",
       "      <th>4</th>\n",
       "      <td>0.155541</td>\n",
       "      <td>0.157671</td>\n",
       "      <td>0.154980</td>\n",
       "      <td>0.152089</td>\n",
       "      <td>0.155002</td>\n",
       "      <td>0.149344</td>\n",
       "      <td>0.150279</td>\n",
       "      <td>0.140987</td>\n",
       "      <td>0.139335</td>\n",
       "    </tr>\n",
       "    <tr>\n",
       "      <th>...</th>\n",
       "      <td>...</td>\n",
       "      <td>...</td>\n",
       "      <td>...</td>\n",
       "      <td>...</td>\n",
       "      <td>...</td>\n",
       "      <td>...</td>\n",
       "      <td>...</td>\n",
       "      <td>...</td>\n",
       "      <td>...</td>\n",
       "    </tr>\n",
       "    <tr>\n",
       "      <th>95</th>\n",
       "      <td>0.221062</td>\n",
       "      <td>0.193959</td>\n",
       "      <td>0.201446</td>\n",
       "      <td>0.178972</td>\n",
       "      <td>0.199596</td>\n",
       "      <td>0.187547</td>\n",
       "      <td>0.176529</td>\n",
       "      <td>0.158663</td>\n",
       "      <td>0.155298</td>\n",
       "    </tr>\n",
       "    <tr>\n",
       "      <th>96</th>\n",
       "      <td>0.154307</td>\n",
       "      <td>0.133093</td>\n",
       "      <td>0.128532</td>\n",
       "      <td>0.114853</td>\n",
       "      <td>0.127730</td>\n",
       "      <td>0.115000</td>\n",
       "      <td>0.108969</td>\n",
       "      <td>0.093897</td>\n",
       "      <td>0.089194</td>\n",
       "    </tr>\n",
       "    <tr>\n",
       "      <th>97</th>\n",
       "      <td>0.161551</td>\n",
       "      <td>0.159065</td>\n",
       "      <td>0.158005</td>\n",
       "      <td>0.152135</td>\n",
       "      <td>0.157696</td>\n",
       "      <td>0.150828</td>\n",
       "      <td>0.149818</td>\n",
       "      <td>0.138960</td>\n",
       "      <td>0.136548</td>\n",
       "    </tr>\n",
       "    <tr>\n",
       "      <th>98</th>\n",
       "      <td>0.135241</td>\n",
       "      <td>0.142707</td>\n",
       "      <td>0.139339</td>\n",
       "      <td>0.138313</td>\n",
       "      <td>0.141946</td>\n",
       "      <td>0.135746</td>\n",
       "      <td>0.136773</td>\n",
       "      <td>0.127765</td>\n",
       "      <td>0.125854</td>\n",
       "    </tr>\n",
       "    <tr>\n",
       "      <th>99</th>\n",
       "      <td>0.162246</td>\n",
       "      <td>0.155516</td>\n",
       "      <td>0.157107</td>\n",
       "      <td>0.145777</td>\n",
       "      <td>0.158841</td>\n",
       "      <td>0.149185</td>\n",
       "      <td>0.145579</td>\n",
       "      <td>0.131343</td>\n",
       "      <td>0.129284</td>\n",
       "    </tr>\n",
       "  </tbody>\n",
       "</table>\n",
       "<p>100 rows × 9 columns</p>\n",
       "</div>"
      ],
      "text/plain": [
       "         50        100       150  ...       350       400       450\n",
       "0   0.189438  0.175135  0.173860  ...  0.150790  0.136617  0.131787\n",
       "1   0.156441  0.144746  0.135477  ...  0.119641  0.108822  0.105551\n",
       "2   0.221550  0.207325  0.217748  ...  0.193217  0.175049  0.169812\n",
       "3   0.155528  0.140544  0.135746  ...  0.120891  0.109140  0.106060\n",
       "4   0.155541  0.157671  0.154980  ...  0.150279  0.140987  0.139335\n",
       "..       ...       ...       ...  ...       ...       ...       ...\n",
       "95  0.221062  0.193959  0.201446  ...  0.176529  0.158663  0.155298\n",
       "96  0.154307  0.133093  0.128532  ...  0.108969  0.093897  0.089194\n",
       "97  0.161551  0.159065  0.158005  ...  0.149818  0.138960  0.136548\n",
       "98  0.135241  0.142707  0.139339  ...  0.136773  0.127765  0.125854\n",
       "99  0.162246  0.155516  0.157107  ...  0.145579  0.131343  0.129284\n",
       "\n",
       "[100 rows x 9 columns]"
      ]
     },
     "metadata": {},
     "execution_count": 53
    }
   ]
  },
  {
   "cell_type": "code",
   "source": [
    "print(accuracies[50])\n",
    "accuracy_df = 1 - accuracy_df"
   ],
   "metadata": {
    "colab": {
     "base_uri": "https://localhost:8080/"
    },
    "id": "JQipaHq0C-7T",
    "outputId": "ddf054c5-2e8c-4f7f-ea8d-d6a0a7eb542a"
   },
   "id": "JQipaHq0C-7T",
   "execution_count": 54,
   "outputs": [
    {
     "output_type": "stream",
     "name": "stdout",
     "text": [
      "[0.18943846288785782, 0.1564413095526436, 0.22154994809545014, 0.15552779587044704, 0.15554081235233153, 0.24955586228299179, 0.14343584881175198, 0.17177227932132647, 0.2142180228774266, 0.11472170181664176, 0.181727698836466, 0.1126044101683001, 0.10198741366637853, 0.14322370951564073, 0.17686380112330694, 0.1952617030924426, 0.16241095696785932, 0.14244623148630128, 0.15546964058409904, 0.17832941498879298, 0.14070141647262563, 0.2534936244547165, 0.11679672556640143, 0.18192729339719996, 0.30620274470949826, 0.2157492156898331, 0.11656193460874587, 0.17814378229362168, 0.15434716536931053, 0.19625389756940007, 0.13345835381040994, 0.23905507140826976, 0.12776983410571588, 0.2715495131704347, 0.15028561279431776, 0.15771662598255173, 0.12421101350391117, 0.2286465092200777, 0.17304373346090196, 0.2772745261159251, 0.24853217171176087, 0.17856930886849343, 0.1645802359738463, 0.19863323624796295, 0.14041267720113615, 0.1380002924891279, 0.14043553246670076, 0.21435482894436683, 0.11686194034899468, 0.2031949714779245, 0.22906243435967522, 0.13025727787249666, 0.16526013714559074, 0.1049417910685928, 0.12775541570229174, 0.13288642882238563, 0.13210867129173073, 0.23965538582984144, 0.10511213325516343, 0.19449824675712177, 0.11612319279331314, 0.06192122848237435, 0.128353753890604, 0.7231830243394953, 0.10022219178598442, 0.08940347496932194, 0.09547907812079037, 0.13711818081816465, 0.1675617416385866, 0.17991171496369196, 0.11707914111163342, 0.3759048919895194, 0.3424184131963183, 0.15652307370415708, 0.18786485813111617, 0.2517172155830705, 0.1268458629318168, 0.2567084209992939, 0.20450482798142688, 0.10240157073163055, 0.14419011023289172, 0.2937005102821304, 0.17562951401292215, 0.15689639390388033, 0.12664390128716205, 0.06694861302610988, 0.3093011572306808, 0.1913642318122498, 0.2013795853924162, 0.23238146942985405, 0.20353964922446363, 0.23356615250793997, 0.21619899445169735, 0.21320840177008415, 0.12614861028880542, 0.22106243223211364, 0.15430736047591107, 0.1615512853462349, 0.13524078399777129, 0.16224603617811814]\n"
     ]
    }
   ]
  },
  {
   "cell_type": "code",
   "source": [
    "plt.title(\"Accuracy of Reconstruction vs. Number of Eigenfaces\")\n",
    "#plt.savefig(\"seprated.png\", bbox_inches='tight')\n",
    "accuracy_df.boxplot()"
   ],
   "metadata": {
    "colab": {
     "base_uri": "https://localhost:8080/",
     "height": 298
    },
    "id": "9TIlIpMuTkpg",
    "outputId": "d459f0fe-824a-4a44-bc18-085dc3e7b432"
   },
   "id": "9TIlIpMuTkpg",
   "execution_count": 55,
   "outputs": [
    {
     "output_type": "execute_result",
     "data": {
      "text/plain": [
       "<matplotlib.axes._subplots.AxesSubplot at 0x7fd1c2287050>"
      ]
     },
     "metadata": {},
     "execution_count": 55
    },
    {
     "output_type": "display_data",
     "data": {
      "image/png": "[encoded data removed]",
      "text/plain": [
       "<Figure size 432x288 with 1 Axes>"
      ]
     },
     "metadata": {
      "needs_background": "light"
     }
    }
   ]
  },
  {
   "cell_type": "code",
   "source": [
    "acc = accuracy_df"
   ],
   "metadata": {
    "id": "Cu1tDhahLGci"
   },
   "id": "Cu1tDhahLGci",
   "execution_count": 23,
   "outputs": []
  },
  {
   "cell_type": "code",
   "source": [
    "df = acc\n",
    "for i in thelist:\n",
    "  localmin = max(accuracies[i])\n",
    "  df[i] = df[df[i] < localmin]\n",
    "  print(localmin)"
   ],
   "metadata": {
    "colab": {
     "base_uri": "https://localhost:8080/"
    },
    "id": "ghg7M9BALdpT",
    "outputId": "5089d3c0-caa0-4376-a2fb-8c5b9ddf14c2"
   },
   "id": "ghg7M9BALdpT",
   "execution_count": 32,
   "outputs": [
    {
     "output_type": "stream",
     "name": "stdout",
     "text": [
      "0.7231830243394953\n",
      "0.7176936975483659\n",
      "0.74950153620418\n",
      "0.7003420821656268\n",
      "0.7605797365212389\n",
      "0.7334656637409731\n",
      "0.7049789194429472\n",
      "0.6678878098521769\n",
      "0.6615861666919471\n"
     ]
    }
   ]
  },
  {
   "cell_type": "code",
   "source": [
    "plt.title(\"Accuracy of Reconstruction vs. Number of Eigenfaces\")\n",
    "#plt.savefig(\"seprated.png\", bbox_inches='tight')\n",
    "df.boxplot()"
   ],
   "metadata": {
    "colab": {
     "base_uri": "https://localhost:8080/",
     "height": 353
    },
    "id": "X4czRASCN1p9",
    "outputId": "58056057-7834-4ee2-8c8d-c681fc254e3e"
   },
   "id": "X4czRASCN1p9",
   "execution_count": 33,
   "outputs": [
    {
     "output_type": "stream",
     "name": "stderr",
     "text": [
      "/usr/local/lib/python3.7/dist-packages/numpy/core/_asarray.py:83: VisibleDeprecationWarning: Creating an ndarray from ragged nested sequences (which is a list-or-tuple of lists-or-tuples-or ndarrays with different lengths or shapes) is deprecated. If you meant to do this, you must specify 'dtype=object' when creating the ndarray\n",
      "  return array(a, dtype, copy=False, order=order)\n"
     ]
    },
    {
     "output_type": "execute_result",
     "data": {
      "text/plain": [
       "<matplotlib.axes._subplots.AxesSubplot at 0x7fd1bc86d5d0>"
      ]
     },
     "metadata": {},
     "execution_count": 33
    },
    {
     "output_type": "display_data",
     "data": {
      "image/png": "[encoded data removed]",
      "text/plain": [
       "<Figure size 432x288 with 1 Axes>"
      ]
     },
     "metadata": {
      "needs_background": "light"
     }
    }
   ]
  }
 ]
}