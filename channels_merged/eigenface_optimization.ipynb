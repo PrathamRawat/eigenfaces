{
 "cells": [
  {
   "cell_type": "code",
   "execution_count": 1,
   "metadata": {
    "collapsed": true
   },
   "outputs": [],
   "source": [
    "import os\n",
    "import pandas as pd\n",
    "import matplotlib.pyplot as plt\n",
    "import numpy as np\n",
    "from PIL import Image\n",
    "from tqdm.notebook import tqdm"
   ]
  },
  {
   "cell_type": "code",
   "execution_count": 2,
   "outputs": [],
   "source": [
    "celebs = os.listdir(\"../cropped_faces\")\n",
    "faces = []\n",
    "\n",
    "for celeb in celebs:\n",
    "    faces.append(np.asarray(Image.open(\"../cropped_faces/{}\".format(celeb))))\n",
    "\n",
    "face_array = np.array(faces)\n",
    "red, green, blue = np.split(face_array, 3, axis=3)"
   ],
   "metadata": {
    "collapsed": false,
    "pycharm": {
     "name": "#%%\n"
    }
   }
  },
  {
   "cell_type": "code",
   "execution_count": 3,
   "outputs": [],
   "source": [
    "def get_random_face():\n",
    "    index = np.random.randint(0, len(face_array))\n",
    "    return faces[index], index\n"
   ],
   "metadata": {
    "collapsed": false,
    "pycharm": {
     "name": "#%%\n"
    }
   }
  },
  {
   "cell_type": "code",
   "execution_count": 4,
   "outputs": [
    {
     "data": {
      "text/plain": "<matplotlib.image.AxesImage at 0x7fe3b4018430>"
     },
     "execution_count": 4,
     "metadata": {},
     "output_type": "execute_result"
    },
    {
     "data": {
      "text/plain": "<Figure size 432x288 with 1 Axes>",
      "image/png": "[encoded data removed]"
     },
     "metadata": {
      "needs_background": "light"
     },
     "output_type": "display_data"
    }
   ],
   "source": [
    "plt.imshow(get_random_face()[0], cmap=plt.cm.rainbow)\n"
   ],
   "metadata": {
    "collapsed": false,
    "pycharm": {
     "name": "#%%\n"
    }
   }
  },
  {
   "cell_type": "code",
   "execution_count": 5,
   "outputs": [],
   "source": [
    "def pca(X, n_pc):\n",
    "    mean = np.mean(X, axis=0)\n",
    "    centered_data = X - mean # Subtracting the mean from the data\n",
    "    U, S, V = np.linalg.svd(centered_data) # Taking the SVD from the data\n",
    "    components = V[:n_pc] # Extracting the principal components\n",
    "    projected = U[:,:n_pc]*S[:n_pc]\n",
    "\n",
    "    return projected, components, mean, centered_data"
   ],
   "metadata": {
    "collapsed": false,
    "pycharm": {
     "name": "#%%\n"
    }
   }
  },
  {
   "cell_type": "code",
   "execution_count": 6,
   "outputs": [],
   "source": [
    "def eigenfaces(data, faces=50):\n",
    "    samples, h, w, d = data.shape\n",
    "    X = data.reshape(samples, h*w) # vectorizing the images\n",
    "    P, C, M, Y = pca(X, n_pc=faces) # running PCA with the number of principal components specified\n",
    "    return C.reshape((faces, h, w)), P, C, M, Y #reshaping the principal components to be images\n",
    "\n",
    "def reconstruct(mean_centered, components, mean, index):\n",
    "    weights = np.dot(mean_centered, components.T)\n",
    "    centered_vector = np.dot(weights[index, :], components) # applying weights to each of the components\n",
    "    recovered = (mean + centered_vector).reshape(64, 64)\n",
    "    return recovered"
   ],
   "metadata": {
    "collapsed": false,
    "pycharm": {
     "name": "#%%\n"
    }
   }
  },
  {
   "cell_type": "code",
   "execution_count": 7,
   "outputs": [],
   "source": [
    "def accuracy(original, reconstruction):\n",
    "    difference = original - reconstruction\n",
    "    sum = np.sum(np.abs(difference))\n",
    "    return sum / np.sum(original)"
   ],
   "metadata": {
    "collapsed": false,
    "pycharm": {
     "name": "#%%\n"
    }
   }
  },
  {
   "cell_type": "code",
   "execution_count": null,
   "outputs": [
    {
     "name": "stdout",
     "output_type": "stream",
     "text": [
      "Computing 50 Eigenfaces\n",
      "Finished Eigenfaces\n"
     ]
    },
    {
     "data": {
      "text/plain": "  0%|          | 0/1000 [00:00<?, ?it/s]",
      "application/vnd.jupyter.widget-view+json": {
       "version_major": 2,
       "version_minor": 0,
       "model_id": "32c273695ba44235b336f4017321d4a9"
      }
     },
     "metadata": {},
     "output_type": "display_data"
    }
   ],
   "source": [
    "eigenface_dict = dict()\n",
    "accuracies = dict()\n",
    "\n",
    "for num_faces in range(50, 1000, 50):\n",
    "    print(\"Computing {} Eigenfaces\".format(num_faces))\n",
    "    red_eigenface_array, P_r, C_r, M_r, Y_r = eigenfaces(red, num_faces)\n",
    "    green_eigenface_array, P_g, C_g, M_g, Y_g = eigenfaces(green, num_faces)\n",
    "    blue_eigenface_array, P_b, C_b, M_b, Y_b = eigenfaces(blue, num_faces)\n",
    "    print(\"Finished Eigenfaces\")\n",
    "\n",
    "    eigenface_dict[num_faces] = ((red_eigenface_array, P_r, C_r, M_r, Y_r), (green_eigenface_array, P_g, C_g, M_g, Y_g), (blue_eigenface_array, P_b, C_b, M_b, Y_b))\n",
    "    accuracies[num_faces] = list()\n",
    "\n",
    "    for face in tqdm(range(1000)):\n",
    "        reconstruction = np.dstack((\n",
    "            reconstruct(Y_r, C_r, M_r, face),\n",
    "            reconstruct(Y_g, C_g, M_g, face),\n",
    "            reconstruct(Y_b, C_b, M_b, face)\n",
    "        ))\n",
    "\n",
    "        accuracies[num_faces].append(accuracy(faces[face], reconstruction))"
   ],
   "metadata": {
    "collapsed": false,
    "pycharm": {
     "name": "#%%\n",
     "is_executing": true
    }
   }
  },
  {
   "cell_type": "code",
   "execution_count": null,
   "outputs": [],
   "source": [
    "accuracy_df = pd.DataFrame.from_dict(accuracies)\n",
    "accuracy_df"
   ],
   "metadata": {
    "collapsed": false,
    "pycharm": {
     "name": "#%%\n",
     "is_executing": true
    }
   }
  },
  {
   "cell_type": "code",
   "execution_count": null,
   "outputs": [],
   "source": [
    "accuracy_df = 1 - accuracy_df"
   ],
   "metadata": {
    "collapsed": false,
    "pycharm": {
     "name": "#%%\n",
     "is_executing": true
    }
   }
  },
  {
   "cell_type": "code",
   "execution_count": null,
   "outputs": [],
   "source": [
    "plt.title(\"Accuracy of Reconstruction vs. Number of Eigenfaces\")\n",
    "accuracy_df.boxplot()"
   ],
   "metadata": {
    "collapsed": false,
    "pycharm": {
     "name": "#%%\n",
     "is_executing": true
    }
   }
  }
 ],
 "metadata": {
  "kernelspec": {
   "display_name": "Python 3",
   "language": "python",
   "name": "python3"
  },
  "language_info": {
   "codemirror_mode": {
    "name": "ipython",
    "version": 2
   },
   "file_extension": ".py",
   "mimetype": "text/x-python",
   "name": "python",
   "nbconvert_exporter": "python",
   "pygments_lexer": "ipython2",
   "version": "2.7.6"
  }
 },
 "nbformat": 4,
 "nbformat_minor": 0
}